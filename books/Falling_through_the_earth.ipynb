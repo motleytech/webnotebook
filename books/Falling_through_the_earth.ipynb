{
 "cells": [
  {
   "cell_type": "markdown",
   "metadata": {},
   "source": [
    "# Gravity Train\n",
    "\n",
    "We will calculate the time taken by a gravity train while journeying through different straight line paths through the earth. We start by defining some constants that we will be using in the calculations."
   ]
  },
  {
   "cell_type": "code",
   "execution_count": 1,
   "metadata": {
    "collapsed": true
   },
   "outputs": [],
   "source": [
    "%matplotlib inline\n",
    "# above line needs to be the first line in the notebook\n",
    "# it is required to show inline matplotlib plots.\n",
    "\n",
    "# we will use these imports in the code below\n",
    "import matplotlib.pyplot as plt\n",
    "import math\n",
    "from pprint import pprint as pp\n",
    "\n",
    "# constants\n",
    "dia = 12742000 # diameter of the earth in meters\n",
    "rad = dia/2.0\n",
    "me = 5.972e24  # mass of the earth in kg\n",
    "pi = 3.1415926\n",
    "G = 6.67384e-11 # gravitational constant\n",
    "g = 9.8\n",
    "\n",
    "volume = 4 * pi * pow(rad, 3.0) / 3.0\n",
    "density = me / volume"
   ]
  },
  {
   "cell_type": "markdown",
   "metadata": {},
   "source": [
    "#### Acceleration vs Distance from center of the earth (uniform density)\n",
    "It will be interesting to see in a graphical form, how the acceleration due to gravity varies by depth as one goes deeper into the earth. Lets calculate and plot this first. From our analytical work ($a_h = \\frac {h}{R} g$), its expected to be a linear relationship (so its not all that interesting after all)."
   ]
  },
  {
   "cell_type": "code",
   "execution_count": 2,
   "metadata": {
    "collapsed": false
   },
   "outputs": [
    {
     "data": {
      "text/plain": [
       "[<matplotlib.lines.Line2D at 0x2b31590>]"
      ]
     },
     "execution_count": 2,
     "metadata": {},
     "output_type": "execute_result"
    },
    {
     "data": {
      "image/png": "[encoded data removed]",
      "text/plain": [
       "<matplotlib.figure.Figure at 0x1534bd0>"
      ]
     },
     "metadata": {},
     "output_type": "display_data"
    }
   ],
   "source": [
    "def calc_acc_at_depth(d):\n",
    "    \"\"\"\n",
    "    returns the acceleration at distance d\n",
    "    from the center of the earth, assuming \n",
    "    uniform density\n",
    "    \"\"\"\n",
    "    if d > rad:\n",
    "        return g\n",
    "    if d < -rad:\n",
    "        return -g\n",
    "    vol_d = 4 * pi * pow(d, 3.0) / 3.0\n",
    "    md = density * vol_d\n",
    "    acc = G*md / pow(d, 2.0)\n",
    "    return acc\n",
    "\n",
    "acc_at_depth = []\n",
    "for d in xrange(500, 1, -1):\n",
    "    dd = d*rad / 500\n",
    "    acc_at_depth.append((dd, calc_acc_at_depth(dd)))\n",
    "\n",
    "xvals = [a for a,b in acc_at_depth]\n",
    "yvals = [b for a,b in acc_at_depth]\n",
    "plt.xlabel(\"Distance from center from earth (meters)\")\n",
    "plt.ylabel(\"Acceleration due to gravity (m / s^2)\")\n",
    "plt.plot(xvals, yvals)\n",
    "\n"
   ]
  },
  {
   "cell_type": "markdown",
   "metadata": {},
   "source": [
    "The above graph is, as expected, a straight line, though there was hardly any doubt about that outcome.\n",
    "\n",
    "Next, we will calculate and plot the travel time for 127 different tunnel lengths, uniformly distributed in their length, starting from 100 km and going up to 12700 km (almost equal to the diameter)."
   ]
  },
  {
   "cell_type": "code",
   "execution_count": 3,
   "metadata": {
    "collapsed": false,
    "scrolled": true
   },
   "outputs": [
    {
     "name": "stdout",
     "output_type": "stream",
     "text": [
      "Difference between max and min travel times : 2.69295696853e-12\n"
     ]
    },
    {
     "data": {
      "image/png": "[encoded data removed]",
      "text/plain": [
       "<matplotlib.figure.Figure at 0x2953150>"
      ]
     },
     "metadata": {},
     "output_type": "display_data"
    }
   ],
   "source": [
    "chord_lengths = [100000*n for n in range(1, 127)]\n",
    "\n",
    "def get_acc(chlen, R, x):\n",
    "    \"\"\"\n",
    "    return acceleration at distance x\n",
    "    into a tunnel of length chlen\n",
    "    \"\"\"\n",
    "    return (g/(2*R))*(chlen - 2*x)\n",
    "\n",
    "def get_vt(s, v, a):\n",
    "    \"\"\"\n",
    "    Given the current velocity, acceleration a distance 's',\n",
    "    returns the velocity after train covers the distance 's'\n",
    "    and the time take to cover the distance.\n",
    "    \"\"\"\n",
    "    rv = rt = 0\n",
    "    if a == 0:\n",
    "        rv = v\n",
    "        rt = s/v\n",
    "        return (rv, rt)\n",
    "    rt = (math.sqrt(v*v + 2*a*s) - v) / a\n",
    "    rv = v + a*rt\n",
    "    return (rv, rt)\n",
    "        \n",
    "def get_travel_time(chlen, nparts, acc_func):\n",
    "    \"\"\"\n",
    "    returns the total travel time for traversing the\n",
    "    tunnel, from beginning to end\n",
    "    \"\"\"\n",
    "    dist = chlen/2.0\n",
    "    curve_power = 2.0\n",
    "    stfacs = [pow((float(x)/nparts), curve_power) for x in xrange(nparts+1)]\n",
    "    steps = [dist*xx for xx in stfacs]\n",
    "    total_time = 0\n",
    "    cv = 0\n",
    "    for st1, st2 in zip(steps, steps[1:]):\n",
    "        dist = st2 - st1\n",
    "        acc = acc_func(chlen, rad, st1)\n",
    "        cv, time_part = get_vt(dist, cv, acc)\n",
    "        total_time += time_part\n",
    "        \n",
    "    return 2*total_time\n",
    "\n",
    "results = [(dist1, get_travel_time(dist1, 500, get_acc)) for dist1 in chord_lengths]\n",
    "\n",
    "# plot of time vs chord length\n",
    "yvals = [t/60.0 for d, t in results]\n",
    "maxDiff = max(yvals) - min(yvals)\n",
    "\n",
    "yvals = [float(\"%10.6f\" % t) for t in yvals]\n",
    "xvals = [d for d, t in results]\n",
    "plt.xlabel(\"Length of tunnel (meters)\")\n",
    "plt.ylabel(\"Travel time (minutes)\")\n",
    "plt.plot(xvals, yvals)\n",
    "\n",
    "print \"Difference between max and min travel times : %s\" % maxDiff"
   ]
  },
  {
   "cell_type": "markdown",
   "metadata": {},
   "source": [
    "*All right!* This confirms our analytical solution. The travel time across chords of different length are indeed almost exactly the same. The differences in the max and min travel times is of the order of $10^{-11}$, which is probably the best accuracy that we can get with double precision arithmetic on a computer.\n",
    "\n",
    "This is all well and good for the simplified case of the earth having uniform density. But that is not true for the real earth. In fact, we expect the density near the core to be larger due to the pressure of all the mass that is pressing down upon it.\n"
   ]
  },
  {
   "cell_type": "markdown",
   "metadata": {},
   "source": [
    "#### Acceleration in non-uniform density\n",
    "\n",
    "This website (http://geophysics.ou.edu/solid_earth/prem.html) gives us a table of acceleration vs depth for the earth.\n",
    "\n",
    "I copy pasted the table and cleaned up the data in a few lines of code below (python is awesome)."
   ]
  },
  {
   "cell_type": "code",
   "execution_count": 4,
   "metadata": {
    "collapsed": false
   },
   "outputs": [
    {
     "data": {
      "text/plain": [
       "[<matplotlib.lines.Line2D at 0x2f51e90>]"
      ]
     },
     "execution_count": 4,
     "metadata": {},
     "output_type": "execute_result"
    },
    {
     "data": {
      "image/png": "[encoded data removed]",
      "text/plain": [
       "<matplotlib.figure.Figure at 0x2939210>"
      ]
     },
     "metadata": {},
     "output_type": "display_data"
    }
   ],
   "source": [
    "# depth vs acceleration table from\n",
    "# http://geophysics.ou.edu/solid_earth/prem.html\n",
    "\n",
    "g_at_depth = \"\"\"0.0\t11266.20\t3667.80\t13088.48\t1425.3\t176.1\t0.4407\t363.850\t0.0000\n",
    "200.0\t11255.93\t3663.42\t13079.77\t1423.1\t175.5\t0.4408\t362.900\t0.7311\n",
    "400.0\t11237.12\t3650.27\t13053.64\t1416.4\t173.9\t0.4410\t360.030\t1.4604\n",
    "600.0\t11205.76\t3628.35\t13010.09\t1405.3\t171.3\t0.4414\t355.280\t2.1862\n",
    "800.0\t11161.86\t3597.67\t12949.12\t1389.8\t167.6\t0.4420\t348.670\t2.9068\n",
    "1000.0\t11105.42\t3558.23\t12870.73\t1370.1\t163.0\t0.4428\t340.240\t3.6203\n",
    "1200.0\t11036.43\t3510.02\t12774.93\t1346.2\t157.4\t0.4437\t330.050\t4.3251\n",
    "1221.5\t11028.27\t3504.32\t12763.60\t1343.4\t156.7\t0.4438\t328.850\t4.4002\n",
    "1400.0\t10249.59\t0.00\t12069.24\t1267.9\t0.0\t0.5000\t318.750\t4.9413\n",
    "1600.0\t10122.91\t0.00\t11946.82\t1224.2\t0.0\t0.5000\t306.150\t5.5548\n",
    "1800.0\t9985.54\t0.00\t11809.00\t1177.5\t0.0\t0.5000\t292.220\t6.1669\n",
    "2000.0\t9834.96\t0.00\t11654.78\t1127.3\t0.0\t0.5000\t277.040\t6.7715\n",
    "2200.0\t9668.65\t0.00\t11483.11\t1073.5\t0.0\t0.5000\t260.680\t7.3645\n",
    "2400.0\t9484.09\t0.00\t11292.98\t1015.8\t0.0\t0.5000\t243.250\t7.9425\n",
    "2600.0\t9278.76\t0.00\t11083.35\t954.2\t0.0\t0.5000\t224.850\t8.5023\n",
    "2800.0\t9050.15\t0.00\t10853.21\t888.9\t0.0\t0.5000\t205.600\t9.0414\n",
    "3000.0\t8795.73\t0.00\t10601.52\t820.2\t0.0\t0.5000\t185.640\t9.5570\n",
    "3200.0\t8512.98\t0.00\t10327.26\t748.4\t0.0\t0.5000\t165.120\t10.0464\n",
    "3400.0\t8199.39\t0.00\t10029.40\t674.3\t0.0\t0.5000\t144.190\t10.5065\n",
    "3480.0\t8064.82\t0.00\t9903.49\t644.1\t0.0\t0.5000\t135.750\t10.6823\n",
    "3600.0\t13687.53\t7265.75\t5506.42\t644.0\t290.7\t0.3038\t128.710\t10.5204\n",
    "3630.0\t13680.41\t7265.97\t5491.45\t641.2\t289.9\t0.3035\t126.970\t10.4844\n",
    "3800.0\t13447.42\t7188.92\t5406.81\t609.5\t279.4\t0.3012\t117.350\t10.3095\n",
    "4000.0\t13245.32\t7099.74\t5307.24\t574.4\t267.5\t0.2984\t106.390\t10.1580\n",
    "4200.0\t13015.79\t7010.53\t5207.13\t540.9\t255.9\t0.2957\t95.760\t10.0535\n",
    "4400.0\t12783.89\t6919.57\t5105.90\t508.5\t244.5\t0.2928\t85.430\t9.9859\n",
    "4600.0\t12544.66\t6825.12\t5002.99\t476.6\t233.1\t0.2898\t75.360\t9.9474\n",
    "4800.0\t12293.16\t6725.48\t4897.83\t444.8\t221.5\t0.2864\t65.520\t9.9314\n",
    "5000.0\t12024.45\t6618.91\t4789.83\t412.8\t209.8\t0.2826\t55.900\t9.9326\n",
    "5200.0\t11733.57\t6563.70\t4678.44\t380.3\t197.9\t0.2783\t46.490\t9.9467\n",
    "5400.0\t11415.60\t6378.13\t4563.07\t347.1\t185.6\t0.2731\t37.290\t9.9698\n",
    "5600.0\t11065.57\t6240.46\t4443.17\t313.3\t173.0\t0.2668\t28.290\t9.9985\n",
    "5701.0\t10751.31\t5945.08\t4380.71\t299.9\t154.8\t0.2798\t23.830\t10.0143\n",
    "5771.0\t10157.82\t5516.01\t3975.84\t248.9\t121.0\t0.2909\t21.040\t10.0038\n",
    "5701.0\t10751.31\t5945.08\t4380.71\t299.9\t154.8\t0.2798\t23.830\t10.0143\n",
    "5771.0\t10157.82\t5516.01\t3975.84\t248.9\t121.0\t0.2909\t21.040\t10.0038\n",
    "5871.0\t9645.88\t5224.28\t3849.80\t218.1\t105.1\t0.2924\t17.130\t9.9883\n",
    "5971.0\t9133.97\t4932.59\t3723.78\t189.9\t90.6\t0.2942\t13.350\t9.9686\n",
    "6061.0\t8732.09\t4706.90\t3489.51\t163.0\t77.3\t0.2952\t10.200\t9.9361\n",
    "6151.0\t8558.96\t4643.91\t3435.78\t152.9\t74.1\t0.2914\t7.110\t9.9048\n",
    "6221.0\t8033.70\t4443.61\t3367.10\t128.7\t66.5\t0.2796\t4.780\t9.8783\n",
    "6291.0\t8076.88\t4469.53\t3374.71\t130.3\t67.4\t0.2793\t2.450\t9.8553\n",
    "6346.6\t8110.61\t4490.94\t3380.76\t131.5\t68.2\t0.2789\t0.604\t9.8394\n",
    "6356.0\t6800.00\t3900.00\t2900.00\t75.3\t44.1\t0.2549\t0.337\t9.8332\n",
    "6368.0\t5800.00\t3200.00\t2600.00\t52.0\t26.6\t0.2812\t0.300\t9.8222\n",
    "6371.0\t1450.00\t0.00\t1020.00\t2.1\t0.0\t0.5000\t0.000\t9.8156\"\"\"\n",
    "\n",
    "g_at_depth = g_at_depth.strip().split(\"\\n\")\n",
    "g_at_depth = [d.split(\"\\t\") for d in g_at_depth]\n",
    "g_at_depth = [(float(d[0]), float(d[-1])) for d in g_at_depth]\n",
    "g_at_depth = sorted(set(g_at_depth))\n",
    "\n",
    "xvals = [d for d, g in g_at_depth]\n",
    "yvals = [g for d, g in g_at_depth]\n",
    "plt.xlabel(\"Distance from center from earth (kms)\")\n",
    "plt.ylabel(\"Acceleration due to gravity (m / s^2)\")\n",
    "plt.plot(xvals, yvals)\n"
   ]
  },
  {
   "cell_type": "markdown",
   "metadata": {},
   "source": [
    "The PREM data only gives the acceleration at discrete intervals. We will write an interpolation method which will do a linear interpolation of the acceleration based on the PREM table.\n",
    "\n",
    "After doing that, we can find the travel times for different chord lengths and plot it."
   ]
  },
  {
   "cell_type": "code",
   "execution_count": 5,
   "metadata": {
    "collapsed": false
   },
   "outputs": [
    {
     "data": {
      "text/plain": [
       "[<matplotlib.lines.Line2D at 0x30235d0>]"
      ]
     },
     "execution_count": 5,
     "metadata": {},
     "output_type": "execute_result"
    },
    {
     "data": {
      "image/png": "[encoded data removed]",
      "text/plain": [
       "<matplotlib.figure.Figure at 0x2b48b90>"
      ]
     },
     "metadata": {},
     "output_type": "display_data"
    }
   ],
   "source": [
    "# find correct acceleration at varying depths\n",
    "dtable = [d for d, g in g_at_depth]\n",
    "gtable = [g for d, g in g_at_depth]\n",
    "\n",
    "from bisect import bisect_left\n",
    "\n",
    "def get_real_acc_at_depth(depth):\n",
    "    \"\"\"\n",
    "    using linear interpolation of the PREM table, find the\n",
    "    acceleration due to gravity at given depth and return it.\n",
    "    \"\"\"\n",
    "    \n",
    "    idx = bisect_left(dtable, depth)\n",
    "    if idx == len(dtable) - 1:\n",
    "        return gtable[-1]\n",
    "    gl, gh = gtable[idx], gtable[idx+1]\n",
    "    dl, dh = dtable[idx], dtable[idx+1]\n",
    "    fac = (d - dl)/(dh - dl)\n",
    "    rg = gl + fac*(gh - gl)\n",
    "    return rg\n",
    "    \n",
    "def get_actual_acc(chlen, R, x):\n",
    "    \"\"\"\n",
    "    return real world acceleration at distance x\n",
    "    into a tunnel of length chlen\n",
    "    \"\"\"\n",
    "    depth = math.sqrt(R*R + x*x - chlen*x)\n",
    "    gd = get_real_acc_at_depth(depth/1000.0)\n",
    "    return (gd/(2*depth))*(chlen - 2*x)\n",
    "\n",
    "\n",
    "\n",
    "results = [(dist1, get_travel_time(dist1, 500, get_actual_acc)) for dist1 in chord_lengths]\n",
    "\n",
    "# plot of time vs chord length\n",
    "xvals = [d for d, t in results]\n",
    "yvals = [t/60.0 for d, t in results]\n",
    "plt.xlabel(\"Tunnel length (meters)\")\n",
    "plt.ylabel(\"Travel time (minutes)\")\n",
    "plt.plot(xvals, yvals)\n",
    "    "
   ]
  },
  {
   "cell_type": "markdown",
   "metadata": {},
   "source": [
    "## Whoa.... this is damn cool!\n",
    "\n",
    "The graph above shows that we can travel to the opposite side of the earth in ~37 minutes, while it takes 42 minutes to travel to nearby places. This is the kind of result that makes one fall in love with physics and maths.\n",
    "\n",
    "Maybe someday, we can find such a shortcut through space which allows us to jump to far away galaxies faster than we can travel in our own solar system.\n",
    "\n",
    "If you look closely, you will also see that this is the essence of gravity assisted slingshot mechanisms that space rockets use to their advantage for gaining speed and venturing into outer space."
   ]
  }
 ],
 "metadata": {
  "kernelspec": {
   "display_name": "Python 2",
   "language": "python",
   "name": "python2"
  },
  "language_info": {
   "codemirror_mode": {
    "name": "ipython",
    "version": 2
   },
   "file_extension": ".py",
   "mimetype": "text/x-python",
   "name": "python",
   "nbconvert_exporter": "python",
   "pygments_lexer": "ipython2",
   "version": "2.7.3"
  }
 },
 "nbformat": 4,
 "nbformat_minor": 0
}
